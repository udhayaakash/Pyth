{
 "cells": [
  {
   "cell_type": "code",
   "execution_count": 7,
   "metadata": {},
   "outputs": [
    {
     "name": "stdout",
     "output_type": "stream",
     "text": [
      "1\n",
      "5\n",
      "0 2 1 2 0\n",
      "0 0 1 2 2 \n"
     ]
    }
   ],
   "source": [
    "t=int(input())\n",
    "while(t):\n",
    "    t-=1\n",
    "    s=int(input())\n",
    "    a=list(map(int,input().split()))\n",
    "    s0=0\n",
    "    s1=0\n",
    "    s2=0\n",
    "    for i in a:\n",
    "        if(i==0):\n",
    "            s0+=1\n",
    "        if(i==1):\n",
    "            s1+=1\n",
    "        if(i==2):\n",
    "            s2+=1\n",
    "    print(('0 '*s0)+('1 '*s1)+('2 '*s2))  "
   ]
  },
  {
   "cell_type": "code",
   "execution_count": 6,
   "metadata": {},
   "outputs": [
    {
     "name": "stdout",
     "output_type": "stream",
     "text": [
      "0 0 1 1 2 2 \n"
     ]
    }
   ],
   "source": [
    "print(('0 '*s0)+('1 '*s1)+('2 '*s2))"
   ]
  },
  {
   "cell_type": "code",
   "execution_count": 8,
   "metadata": {},
   "outputs": [
    {
     "name": "stdout",
     "output_type": "stream",
     "text": [
      "1\n",
      "1\n",
      "1\n"
     ]
    }
   ],
   "source": [
    "t=int(input())\n",
    "while(t):\n",
    "    t-=1\n",
    "    s=int(input())\n",
    "    a=list(map(int,input().split()))\n",
    "    s=sum(a)\n"
   ]
  },
  {
   "cell_type": "code",
   "execution_count": 9,
   "metadata": {},
   "outputs": [
    {
     "data": {
      "text/plain": [
       "1"
      ]
     },
     "execution_count": 9,
     "metadata": {},
     "output_type": "execute_result"
    }
   ],
   "source": [
    "s"
   ]
  },
  {
   "cell_type": "code",
   "execution_count": 7,
   "metadata": {},
   "outputs": [
    {
     "name": "stdout",
     "output_type": "stream",
     "text": [
      "1\n",
      "3\n",
      "1 2 3\n",
      "-1\n"
     ]
    }
   ],
   "source": [
    "t=int(input())\n",
    "while(t):\n",
    "    t-=1\n",
    "    s=int(input())\n",
    "    a=list(map(int,input().split()))\n",
    "    sm=sum(a)\n",
    "    sml=0\n",
    "    if(s==1):\n",
    "        print(1)\n",
    "    elif(s==2):\n",
    "        print(-1)\n",
    "    else:\n",
    "        flag=0\n",
    "        for i in range(1,len(a)-1):\n",
    "            sml=sml+a[i-1]\n",
    "            q=sm-sml-a[i]\n",
    "            if(sml==q):\n",
    "                print(i+1)\n",
    "                flag=1\n",
    "                break\n",
    "        if(flag==0):\n",
    "            print(-1)"
   ]
  },
  {
   "cell_type": "code",
   "execution_count": 2,
   "metadata": {},
   "outputs": [
    {
     "name": "stdout",
     "output_type": "stream",
     "text": [
      "1\n",
      "2\n",
      "1 2\n",
      "1 2\n"
     ]
    }
   ],
   "source": [
    "t=int(input())\n",
    "while(t):\n",
    "    t-=1\n",
    "    s=int(input())\n",
    "    a={}\n",
    "    p=list(input().split())\n",
    "    q=list(input().split())\n",
    "    for i in range(s):\n",
    "        a[p[i]]=q[i]"
   ]
  },
  {
   "cell_type": "code",
   "execution_count": 3,
   "metadata": {},
   "outputs": [
    {
     "data": {
      "text/plain": [
       "{'1': '1', '2': '2'}"
      ]
     },
     "execution_count": 3,
     "metadata": {},
     "output_type": "execute_result"
    }
   ],
   "source": [
    "a"
   ]
  },
  {
   "cell_type": "code",
   "execution_count": 28,
   "metadata": {},
   "outputs": [
    {
     "name": "stdout",
     "output_type": "stream",
     "text": [
      "1\n",
      "4 225\n",
      "9 610 845 990\n",
      "174\n"
     ]
    }
   ],
   "source": [
    "t=int(input())\n",
    "while(t):\n",
    "    t-=1\n",
    "    s,k=map(int,input().split())\n",
    "    a=list(map(int,input().split()))\n",
    "    a.sort()\n",
    "    arsum=0\n",
    "    count=0\n",
    "    fin=10000\n",
    "    for i in range(s-1):\n",
    "        reg=0\n",
    "        for j in range(s-1,i,-1):\n",
    "            if(a[j] - a[i] > k):\n",
    "                reg=reg+(a[j]-a[i]-k)\n",
    "        fin=min(reg+arsum,fin)\n",
    "        arsum=arsum+a[i]   \n",
    "            \n",
    "    print(fin)      "
   ]
  },
  {
   "cell_type": "code",
   "execution_count": null,
   "metadata": {},
   "outputs": [],
   "source": []
  },
  {
   "cell_type": "code",
   "execution_count": 18,
   "metadata": {},
   "outputs": [
    {
     "data": {
      "text/plain": [
       "range(0, 10)"
      ]
     },
     "execution_count": 18,
     "metadata": {},
     "output_type": "execute_result"
    }
   ],
   "source": [
    "range(s)"
   ]
  },
  {
   "cell_type": "code",
   "execution_count": 4,
   "metadata": {},
   "outputs": [
    {
     "name": "stdout",
     "output_type": "stream",
     "text": [
      "1\n",
      "1 2\n",
      "1 1 2\n",
      "1\n"
     ]
    }
   ],
   "source": [
    "t=input()\n",
    "t=int(t)\n",
    "while(t):\n",
    "    t-=1\n",
    "    s,k=map(int,input().split())\n",
    "    a=list(map(int,input().split()))\n",
    "    a.sort()\n",
    "    count=0\n",
    "    sum1=0\n",
    "    for i in range(s):\n",
    "        sum1=sum1+a[i]\n",
    "        if(sum1>k):\n",
    "            break\n",
    "        count+=1\n",
    "        \n",
    "    print(count)"
   ]
  },
  {
   "cell_type": "code",
   "execution_count": 5,
   "metadata": {},
   "outputs": [
    {
     "name": "stdout",
     "output_type": "stream",
     "text": [
      "96\n"
     ]
    }
   ],
   "source": [
    "a=100\n",
    "print(a & (11110000))"
   ]
  },
  {
   "cell_type": "code",
   "execution_count": 4,
   "metadata": {},
   "outputs": [
    {
     "name": "stdout",
     "output_type": "stream",
     "text": [
      "2\n",
      "100\n",
      "70\n",
      "129\n",
      "24\n"
     ]
    }
   ],
   "source": [
    "t=int(input())\n",
    "while(t):\n",
    "    t-=1\n",
    "    a=int(input())\n",
    "    print(((a & 0xF0)>>4)|((a & 0x0F)<<4))"
   ]
  },
  {
   "cell_type": "code",
   "execution_count": 22,
   "metadata": {},
   "outputs": [
    {
     "name": "stdout",
     "output_type": "stream",
     "text": [
      "1\n",
      "32 32\n",
      "4\n"
     ]
    }
   ],
   "source": [
    "t=int(input())\n",
    "while(t):\n",
    "    t-=1\n",
    "    m,n=map(int,input().split())\n",
    "    a=[[0 for i in range(n)] for j in range(m)] \n",
    "    \n",
    "    for i in range(m):\n",
    "        a[i][0]=1\n",
    "    for j in range(n):\n",
    "        a[0][j]=1\n",
    "        \n",
    "    for i in range(1,m):\n",
    "        for j in range(1,n):\n",
    "            a[i][j]=a[i-1][j]+a[i][j-1]\n",
    "      \n",
    "    print((a[m-1][n-1])%(10^9+7))"
   ]
  },
  {
   "cell_type": "code",
   "execution_count": 20,
   "metadata": {},
   "outputs": [
    {
     "data": {
      "text/plain": [
       "[[1, 1, 1], [1, 2, 3], [1, 3, 6]]"
      ]
     },
     "execution_count": 20,
     "metadata": {},
     "output_type": "execute_result"
    }
   ],
   "source": [
    "a"
   ]
  },
  {
   "cell_type": "code",
   "execution_count": 25,
   "metadata": {},
   "outputs": [
    {
     "data": {
      "text/plain": [
       "[[1, 1, 1], [1, 2, 3], [1, 3, 6]]"
      ]
     },
     "execution_count": 25,
     "metadata": {},
     "output_type": "execute_result"
    }
   ],
   "source": [
    "a"
   ]
  },
  {
   "cell_type": "code",
   "execution_count": null,
   "metadata": {},
   "outputs": [],
   "source": []
  },
  {
   "cell_type": "code",
   "execution_count": 30,
   "metadata": {},
   "outputs": [
    {
     "name": "stdout",
     "output_type": "stream",
     "text": [
      "1\n",
      "2 4\n"
     ]
    },
    {
     "ename": "IndexError",
     "evalue": "list assignment index out of range",
     "output_type": "error",
     "traceback": [
      "\u001b[1;31m---------------------------------------------------------------------------\u001b[0m",
      "\u001b[1;31mIndexError\u001b[0m                                Traceback (most recent call last)",
      "\u001b[1;32m<ipython-input-30-a5b0cd747e92>\u001b[0m in \u001b[0;36m<module>\u001b[1;34m\u001b[0m\n\u001b[0;32m      9\u001b[0m \u001b[1;33m\u001b[0m\u001b[0m\n\u001b[0;32m     10\u001b[0m     \u001b[1;32mfor\u001b[0m \u001b[0mj\u001b[0m \u001b[1;32min\u001b[0m \u001b[0mrange\u001b[0m\u001b[1;33m(\u001b[0m\u001b[0mn\u001b[0m\u001b[1;33m)\u001b[0m\u001b[1;33m:\u001b[0m\u001b[1;33m\u001b[0m\u001b[1;33m\u001b[0m\u001b[0m\n\u001b[1;32m---> 11\u001b[1;33m         \u001b[0mcount\u001b[0m\u001b[1;33m[\u001b[0m\u001b[1;36m0\u001b[0m\u001b[1;33m]\u001b[0m\u001b[1;33m[\u001b[0m\u001b[0mj\u001b[0m\u001b[1;33m]\u001b[0m \u001b[1;33m=\u001b[0m \u001b[1;36m1\u001b[0m\u001b[1;33m;\u001b[0m\u001b[1;33m\u001b[0m\u001b[1;33m\u001b[0m\u001b[0m\n\u001b[0m\u001b[0;32m     12\u001b[0m \u001b[1;33m\u001b[0m\u001b[0m\n\u001b[0;32m     13\u001b[0m \u001b[1;33m\u001b[0m\u001b[0m\n",
      "\u001b[1;31mIndexError\u001b[0m: list assignment index out of range"
     ]
    }
   ],
   "source": [
    "t=int(input())\n",
    "while(t):\n",
    "    t-=1\n",
    "    m,n=map(int,input().split())\n",
    "    count = [[0 for x in range(m)] for y in range(n)] \n",
    "\n",
    "    for i in range(m): \n",
    "        count[i][0] = 1; \n",
    "\n",
    "    for j in range(n): \n",
    "        count[0][j] = 1; \n",
    "\n",
    " \n",
    "    for i in range(1, m): \n",
    "        for j in range(n): \n",
    "            count[i][j] = count[i-1][j] + count[i][j-1] \n",
    "\n",
    "      \n",
    "    print((count[m-1][n-1])%(10^9+7))"
   ]
  },
  {
   "cell_type": "code",
   "execution_count": 12,
   "metadata": {},
   "outputs": [],
   "source": [
    "a=[[0 for i in range(4)] for j in range(3)] \n"
   ]
  },
  {
   "cell_type": "code",
   "execution_count": 13,
   "metadata": {},
   "outputs": [
    {
     "data": {
      "text/plain": [
       "[[0, 0, 0, 0], [0, 0, 0, 0], [0, 0, 0, 0]]"
      ]
     },
     "execution_count": 13,
     "metadata": {},
     "output_type": "execute_result"
    }
   ],
   "source": [
    "a"
   ]
  },
  {
   "cell_type": "code",
   "execution_count": 45,
   "metadata": {},
   "outputs": [
    {
     "name": "stdout",
     "output_type": "stream",
     "text": [
      "1\n",
      "32 32\n",
      "997262645\n"
     ]
    }
   ],
   "source": [
    "t=int(input())\n",
    "while(t):\n",
    "    t-=1\n",
    "    m,n=map(int,input().split())\n",
    "    a=[[0 for i in range(n)] for j in range(m)] \n",
    "    \n",
    "    for i in range(m):\n",
    "        a[i][0]=1\n",
    "    for i in range(n):\n",
    "        a[0][i]=1\n",
    "     \n",
    "    \n",
    "    for i in range(1,m):\n",
    "        for j in range(1,n):\n",
    "            a[i][j] = (a[i-1][j] + a[i][j-1])%(pow(10,9)+7)\n",
    "      \n",
    "    print(a[m-1][n-1])"
   ]
  },
  {
   "cell_type": "code",
   "execution_count": 32,
   "metadata": {},
   "outputs": [
    {
     "name": "stdout",
     "output_type": "stream",
     "text": [
      "1\n",
      "5 5\n",
      "[[70, 35, 15, 5, 1], [35, 20, 10, 4, 1], [15, 10, 6, 3, 1], [5, 4, 3, 2, 1], [1, 1, 1, 1, 1]]\n",
      "70\n"
     ]
    }
   ],
   "source": [
    "# Python3\n",
    "\n",
    "def get_ans(n, m):\n",
    "    cache = [[0]*m for i in range(n)]\n",
    "    for i in range(n):\n",
    "        cache[i][-1] = 1\n",
    "    for i in range(m):\n",
    "        cache[-1][i] = 1\n",
    "        \n",
    "    for i in reversed(range(0, n-1)):\n",
    "        for j in reversed(range(0, m-1)):\n",
    "            cache[i][j] = (cache[i+1][j] + cache[i][j+1])%(pow(10,9)+7)\n",
    "       \n",
    "    print(cache)\n",
    "    return cache[0][0]\n",
    "    \n",
    "if __name__ == '__main__':\n",
    "    cases = int(input())\n",
    "    for _ in range(cases):\n",
    "        n, m = list(map(int, input().split()))\n",
    "        print(get_ans(n, m))"
   ]
  },
  {
   "cell_type": "code",
   "execution_count": 41,
   "metadata": {},
   "outputs": [
    {
     "data": {
      "text/plain": [
       "[[1, 1, 1, 1, 1, 1],\n",
       " [1, 2, 3, 4, 5, 6],\n",
       " [1, 3, 6, 10, 15, 21],\n",
       " [1, 4, 10, 20, 9, 4],\n",
       " [1, 5, 15, 9, 18, 22],\n",
       " [1, 6, 21, 4, 22, 18]]"
      ]
     },
     "execution_count": 41,
     "metadata": {},
     "output_type": "execute_result"
    }
   ],
   "source": [
    "a"
   ]
  },
  {
   "cell_type": "code",
   "execution_count": 39,
   "metadata": {},
   "outputs": [
    {
     "data": {
      "text/plain": [
       "<function list.copy>"
      ]
     },
     "execution_count": 39,
     "metadata": {},
     "output_type": "execute_result"
    }
   ],
   "source": [
    "p"
   ]
  },
  {
   "cell_type": "code",
   "execution_count": 6,
   "metadata": {},
   "outputs": [
    {
     "name": "stdout",
     "output_type": "stream",
     "text": [
      "1\n",
      "3\n",
      "3 2 7\n",
      "-1\n"
     ]
    }
   ],
   "source": [
    "t=int(input())\n",
    "while(t):\n",
    "    t-=1\n",
    "    s=int(input())\n",
    "    a=list(map(int,input().split()))\n",
    "    p={}\n",
    "    for i in a:\n",
    "        p[i]=i\n",
    "    count=0\n",
    "    for i in range(s-1):\n",
    "        for j in range(i+1,s):\n",
    "            z=a[i]+a[j]\n",
    "            if(z in p.keys()):\n",
    "                count=count+1\n",
    "    if(count==0):\n",
    "        print('-1')\n",
    "    else:\n",
    "        print(count)\n",
    "                "
   ]
  },
  {
   "cell_type": "code",
   "execution_count": 15,
   "metadata": {},
   "outputs": [
    {
     "name": "stdout",
     "output_type": "stream",
     "text": [
      "1\n",
      "1 5 6\n",
      "5 7 7 9 9 10\n",
      "7 7 9 9 10\n",
      "7 7 9 9 11\n",
      "7 9 \n"
     ]
    }
   ],
   "source": [
    "t=int(input())\n",
    "while(t):\n",
    "    t-=1\n",
    "    a,b,c=map(int,input().split())\n",
    "    p={}\n",
    "    q={}\n",
    "    r=list(map(int,input().split()))\n",
    "    for i in r:\n",
    "        p[i]=i\n",
    "    r=list(map(int,input().split()))\n",
    "    for i in r:\n",
    "        if(i in p.keys()):\n",
    "            q[i]=i\n",
    "    r=list(map(int,input().split()))\n",
    "    count=0\n",
    "\n",
    "    for i in r:\n",
    "        if(i in q.keys()):\n",
    "            print(i,end=\" \")\n",
    "            q.pop(i)\n",
    "            count=count+1\n",
    "    if(count==0):\n",
    "        print(\"-1\")\n",
    "    else:\n",
    "        print()"
   ]
  },
  {
   "cell_type": "code",
   "execution_count": 12,
   "metadata": {},
   "outputs": [],
   "source": [
    "a=[3,3,2,2,1]"
   ]
  },
  {
   "cell_type": "code",
   "execution_count": 13,
   "metadata": {},
   "outputs": [
    {
     "data": {
      "text/plain": [
       "{1, 2, 3}"
      ]
     },
     "execution_count": 13,
     "metadata": {},
     "output_type": "execute_result"
    }
   ],
   "source": [
    "set(a)"
   ]
  },
  {
   "cell_type": "code",
   "execution_count": 3,
   "metadata": {},
   "outputs": [
    {
     "name": "stdout",
     "output_type": "stream",
     "text": [
      "1\n",
      "4\n",
      "1 2 3 4\n",
      "2 1 3 4 \n"
     ]
    }
   ],
   "source": [
    "#code\n",
    "t=int(input())\n",
    "\n",
    "def call(a,p,q):\n",
    "    \n",
    "    if(p==q):\n",
    "        print(a[p],end=' ')\n",
    "        return\n",
    "    else:\n",
    "        \n",
    "        if((q-p+1)%2==0):\n",
    "            i=int((q-p)/2)+p\n",
    "        else:\n",
    "            i=int((q-p)/2)+p\n",
    "        print(a[i],end=' ')\n",
    "        \n",
    "        if(p!=i):\n",
    "            call(a,p,i-1)\n",
    "        call(a,i+1,q)\n",
    "\n",
    "while(t):\n",
    "    t=t-1\n",
    "    s=int(input())\n",
    "    a=list(map(int,input().split()))\n",
    "    call(a,0,s-1)\n",
    "    print()\n",
    "    \n",
    "        "
   ]
  },
  {
   "cell_type": "code",
   "execution_count": 4,
   "metadata": {},
   "outputs": [],
   "source": [
    "a=[1,3,2]"
   ]
  },
  {
   "cell_type": "code",
   "execution_count": 5,
   "metadata": {},
   "outputs": [],
   "source": [
    "b=a.copy()"
   ]
  },
  {
   "cell_type": "code",
   "execution_count": 6,
   "metadata": {},
   "outputs": [
    {
     "data": {
      "text/plain": [
       "[1, 3, 2]"
      ]
     },
     "execution_count": 6,
     "metadata": {},
     "output_type": "execute_result"
    }
   ],
   "source": [
    "b"
   ]
  },
  {
   "cell_type": "code",
   "execution_count": 7,
   "metadata": {},
   "outputs": [],
   "source": [
    "a.sort()"
   ]
  },
  {
   "cell_type": "code",
   "execution_count": 8,
   "metadata": {},
   "outputs": [
    {
     "data": {
      "text/plain": [
       "[1, 2, 3]"
      ]
     },
     "execution_count": 8,
     "metadata": {},
     "output_type": "execute_result"
    }
   ],
   "source": [
    "a"
   ]
  },
  {
   "cell_type": "code",
   "execution_count": 9,
   "metadata": {},
   "outputs": [
    {
     "data": {
      "text/plain": [
       "[1, 3, 2]"
      ]
     },
     "execution_count": 9,
     "metadata": {},
     "output_type": "execute_result"
    }
   ],
   "source": [
    "b"
   ]
  },
  {
   "cell_type": "code",
   "execution_count": 28,
   "metadata": {},
   "outputs": [
    {
     "name": "stdout",
     "output_type": "stream",
     "text": [
      "1\n",
      "5 8\n",
      "7 67 5 49 44 24 29 89 5 98 18 79 12 81 28 82 38 49 46 99 86 97 23 50 36 6 1 63 0 10 2 7 77 59 56 22 36 38 63 41\n",
      "7 67 5 49 44 24 29 89 82 50 7 41 63 38 36 22 56 59 77 36 38 5 98 18 79 12 81 28 23 2 10 0 63 1 6 49 46 99 86 97 \n"
     ]
    }
   ],
   "source": [
    "\n",
    "def call(q,m,n,a,b,count,count1):\n",
    "    \n",
    "    if (m >= a or n >= b):\n",
    "        return;\n",
    "    \n",
    "    for i in range(m,b):\n",
    "        count1=count1+1\n",
    "        print(q[m][i],end=' ')\n",
    "        if(count==count1):\n",
    "            return\n",
    "        \n",
    "    for i in range(n+1,a):\n",
    "        count1=count1+1\n",
    "        print(q[i][b-1],end=' ')\n",
    "        if(count==count1):\n",
    "            return\n",
    "        \n",
    "    for i in range(b-2,m,-1):\n",
    "        count1=count1+1\n",
    "        print(q[a-1][i],end=' ')\n",
    "        if(count==count1):\n",
    "            return\n",
    "        \n",
    "    for i in range(a-1,n,-1):\n",
    "        count1=count1+1\n",
    "        print(q[i][n],end=' ')\n",
    "        if(count==count1):\n",
    "            return\n",
    "        \n",
    "    call(q,m+1,n+1,a-1,b-1,count,count1)\n",
    "\n",
    "t=int(input())\n",
    "\n",
    "while(t):\n",
    "    t=t-1\n",
    "    a,b=map(int,input().split())\n",
    "    count=a*b\n",
    "    p=list(map(int,input().split()))\n",
    "    q=[[0 for i in range(b)] for j in range(a)]\n",
    "    r=0\n",
    "    \n",
    "    for i in range(a):\n",
    "        for j in range(b):\n",
    "            q[i][j]=p[r]\n",
    "            r=r+1\n",
    "            \n",
    "    call(q,0,0,a,b,count,0)\n",
    "    print(\"\")\n",
    "\n",
    "    \n",
    "\n",
    "        "
   ]
  },
  {
   "cell_type": "code",
   "execution_count": 7,
   "metadata": {},
   "outputs": [
    {
     "data": {
      "text/plain": [
       "[[1, 2, 3], [4, 5, 6]]"
      ]
     },
     "execution_count": 7,
     "metadata": {},
     "output_type": "execute_result"
    }
   ],
   "source": [
    "q"
   ]
  },
  {
   "cell_type": "code",
   "execution_count": 12,
   "metadata": {},
   "outputs": [
    {
     "name": "stdout",
     "output_type": "stream",
     "text": [
      "2\n",
      "8\n",
      "4\n",
      "7\n",
      "5\n"
     ]
    }
   ],
   "source": [
    "#code\n",
    "\n",
    "t=int(input())\n",
    "while(t):\n",
    "    t=t-1\n",
    "    n=int(input())\n",
    "    a=[0,1,2]\n",
    "\n",
    "    \n",
    "    for i in range(3,n+1):\n",
    "        if(i%2==0):\n",
    "            a.append(min((a[i-1]+1),(a[int(i/2)]+1)))\n",
    "        else:\n",
    "            a.append(a[i-1]+1)\n",
    "    \n",
    "    print(a[n])"
   ]
  },
  {
   "cell_type": "code",
   "execution_count": 10,
   "metadata": {},
   "outputs": [
    {
     "name": "stdout",
     "output_type": "stream",
     "text": [
      "[0, 1, 2, 3, 3, 4]\n"
     ]
    }
   ],
   "source": [
    "print(a)"
   ]
  },
  {
   "cell_type": "code",
   "execution_count": 10,
   "metadata": {},
   "outputs": [
    {
     "name": "stdout",
     "output_type": "stream",
     "text": [
      "2\n",
      "6\n",
      "6\n",
      "ABCDGH\n",
      "ABCDGH\n",
      "6\n",
      "6\n",
      "6\n",
      "ABCDGH\n",
      "ACDGHR\n",
      "5\n"
     ]
    }
   ],
   "source": [
    "def call(a,p,q,i,j):\n",
    "    \n",
    "    if(i<0 or j<0):\n",
    "        return 0\n",
    "    \n",
    "    if(a[i][j]!=-1):\n",
    "        return a[i][j]\n",
    "    elif(p[i]==q[j]):\n",
    "        return 1+call(a,p,q,i-1,j-1)\n",
    "    else:\n",
    "        return max(call(a,p,q,i,j-1),call(a,p,q,i-1,j))\n",
    "\n",
    "\n",
    "t=int(input())\n",
    "while(t):\n",
    "    t=t-1\n",
    "    m=int(input())\n",
    "    n=int(input())\n",
    "    a=[[-1 for i in range(n)] for j in range(m)]\n",
    "    p=input()\n",
    "    q=input()\n",
    "    \n",
    "    print(call(a,p,q,m-1,n-1))\n",
    "    \n",
    "\n",
    "    "
   ]
  },
  {
   "cell_type": "code",
   "execution_count": 16,
   "metadata": {},
   "outputs": [
    {
     "name": "stdout",
     "output_type": "stream",
     "text": [
      "1\n",
      "4\n",
      "3\n",
      "ABCD\n",
      "ABC\n",
      "3\n"
     ]
    }
   ],
   "source": [
    "def call(a,p,q,i,j,count):\n",
    "    \n",
    "    if(i<0 or j<0):\n",
    "        return count\n",
    "    \n",
    "    if(a[i][j]!=-1):\n",
    "        return a[i][j]\n",
    "    elif(p[i]==q[j]):\n",
    "        count= call(a,p,q,i-1,j-1,count+1)\n",
    "        \n",
    "    \n",
    "    count = max(count, max(call(a,p,q,i,j - 1,0),  \n",
    "                           call(a,p,q, i - 1, j, 0)))\n",
    "    return count\n",
    "\n",
    "\n",
    "t=int(input())\n",
    "while(t):\n",
    "    t=t-1\n",
    "    m=int(input())\n",
    "    n=int(input())\n",
    "    a=[[-1 for i in range(n)] for j in range(m)]\n",
    "    p=input()\n",
    "    q=input()\n",
    "    count=0\n",
    "    \n",
    "    print(call(a,p,q,m-1,n-1,count))\n",
    "    \n",
    "\n",
    "    "
   ]
  },
  {
   "cell_type": "code",
   "execution_count": 14,
   "metadata": {},
   "outputs": [
    {
     "name": "stdout",
     "output_type": "stream",
     "text": [
      "1\n",
      "4 3\n",
      "ABCD\n",
      "ABC\n",
      "1\n"
     ]
    }
   ],
   "source": [
    "def call(a,p,q,i,j,count):\n",
    "    \n",
    "    if(i<0 or j<0):\n",
    "        return count\n",
    "    \n",
    "    if(a[i][j]!=-1):\n",
    "        return a[i][j]\n",
    "    elif(p[i]==q[j]):\n",
    "        count= call(a,p,q,i-1,j-1,count+1)\n",
    "        \n",
    "    \n",
    "    count = max(count, max(call(a,p,q,i,j - 1,0),  \n",
    "                           call(a,p,q, i - 1, j, 0)))\n",
    "    a[i][j]=count\n",
    "    return count\n",
    "\n",
    "\n",
    "t=int(input())\n",
    "while(t):\n",
    "    t=t-1\n",
    "    m,n=map(int,input().split())\n",
    "\n",
    "    a=[[-1 for i in range(n)] for j in range(m)]\n",
    "    p=input()\n",
    "    q=input()\n",
    "    count=0\n",
    "    \n",
    "    print(call(a,p,q,m-1,n-1,count))\n",
    "    \n",
    "\n",
    "    "
   ]
  },
  {
   "cell_type": "code",
   "execution_count": null,
   "metadata": {},
   "outputs": [],
   "source": []
  },
  {
   "cell_type": "code",
   "execution_count": 6,
   "metadata": {},
   "outputs": [
    {
     "name": "stdout",
     "output_type": "stream",
     "text": [
      "Following are nodes in top view of Binary Tree\n",
      "\n"
     ]
    }
   ],
   "source": [
    "class newNode:\n",
    "    def __init__(self, key):  \n",
    "        self.data = key \n",
    "        self.left = None\n",
    "        self.right = None\n",
    "        self.hd = 0\n",
    "def topview(root) : \n",
    "    print(\"\")\n",
    "\n",
    "    \n",
    "if __name__ == '__main__':\n",
    "    root = newNode(1)  \n",
    "    root.left = newNode(2)  \n",
    "    root.right = newNode(3)  \n",
    "    root.left.right = newNode(4)  \n",
    "    root.left.right.right = newNode(5)  \n",
    "    root.left.right.right.right = newNode(6)  \n",
    "    print(\"Following are nodes in top\",  \n",
    "          \"view of Binary Tree\")  \n",
    "    topview(root) "
   ]
  },
  {
   "cell_type": "code",
   "execution_count": null,
   "metadata": {},
   "outputs": [],
   "source": []
  }
 ],
 "metadata": {
  "kernelspec": {
   "display_name": "Python 3",
   "language": "python",
   "name": "python3"
  },
  "language_info": {
   "codemirror_mode": {
    "name": "ipython",
    "version": 3
   },
   "file_extension": ".py",
   "mimetype": "text/x-python",
   "name": "python",
   "nbconvert_exporter": "python",
   "pygments_lexer": "ipython3",
   "version": "3.6.8"
  }
 },
 "nbformat": 4,
 "nbformat_minor": 2
}
