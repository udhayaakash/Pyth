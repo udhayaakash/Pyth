{
 "cells": [
  {
   "cell_type": "code",
   "execution_count": 1,
   "metadata": {},
   "outputs": [
    {
     "name": "stdout",
     "output_type": "stream",
     "text": [
      "11\n",
      "1\n",
      "1\n"
     ]
    },
    {
     "ename": "ValueError",
     "evalue": "not enough values to unpack (expected 2, got 1)",
     "output_type": "error",
     "traceback": [
      "\u001b[1;31m---------------------------------------------------------------------------\u001b[0m",
      "\u001b[1;31mValueError\u001b[0m                                Traceback (most recent call last)",
      "\u001b[1;32m<ipython-input-1-8cc509c734dd>\u001b[0m in \u001b[0;36m<module>\u001b[1;34m\u001b[0m\n\u001b[0;32m      8\u001b[0m         \u001b[0ma\u001b[0m\u001b[1;33m.\u001b[0m\u001b[0mappend\u001b[0m\u001b[1;33m(\u001b[0m\u001b[1;36m0\u001b[0m\u001b[1;33m)\u001b[0m\u001b[1;33m\u001b[0m\u001b[1;33m\u001b[0m\u001b[0m\n\u001b[0;32m      9\u001b[0m     \u001b[1;32mfor\u001b[0m \u001b[0mi\u001b[0m \u001b[1;32min\u001b[0m \u001b[0mrange\u001b[0m\u001b[1;33m(\u001b[0m\u001b[0mn\u001b[0m\u001b[1;33m)\u001b[0m\u001b[1;33m:\u001b[0m\u001b[1;33m\u001b[0m\u001b[1;33m\u001b[0m\u001b[0m\n\u001b[1;32m---> 10\u001b[1;33m         \u001b[0mp\u001b[0m\u001b[1;33m,\u001b[0m\u001b[0mq\u001b[0m\u001b[1;33m=\u001b[0m\u001b[0mmap\u001b[0m\u001b[1;33m(\u001b[0m\u001b[0mint\u001b[0m\u001b[1;33m,\u001b[0m\u001b[0minput\u001b[0m\u001b[1;33m(\u001b[0m\u001b[1;33m)\u001b[0m\u001b[1;33m.\u001b[0m\u001b[0msplit\u001b[0m\u001b[1;33m(\u001b[0m\u001b[1;34m\" \"\u001b[0m\u001b[1;33m)\u001b[0m\u001b[1;33m)\u001b[0m\u001b[1;33m\u001b[0m\u001b[1;33m\u001b[0m\u001b[0m\n\u001b[0m\u001b[0;32m     11\u001b[0m         \u001b[1;32mif\u001b[0m\u001b[1;33m(\u001b[0m\u001b[0mp\u001b[0m\u001b[1;33m<=\u001b[0m\u001b[1;36m8\u001b[0m\u001b[1;33m)\u001b[0m\u001b[1;33m:\u001b[0m\u001b[1;33m\u001b[0m\u001b[1;33m\u001b[0m\u001b[0m\n\u001b[0;32m     12\u001b[0m             \u001b[1;32mif\u001b[0m\u001b[1;33m(\u001b[0m\u001b[0ma\u001b[0m\u001b[1;33m[\u001b[0m\u001b[0mp\u001b[0m\u001b[1;33m-\u001b[0m\u001b[1;36m1\u001b[0m\u001b[1;33m]\u001b[0m\u001b[1;33m<\u001b[0m\u001b[0mq\u001b[0m\u001b[1;33m)\u001b[0m\u001b[1;33m:\u001b[0m\u001b[1;33m\u001b[0m\u001b[1;33m\u001b[0m\u001b[0m\n",
      "\u001b[1;31mValueError\u001b[0m: not enough values to unpack (expected 2, got 1)"
     ]
    }
   ],
   "source": [
    "t=int(input())\n",
    "while(t):\n",
    "    t=t-1\n",
    "\n",
    "    n=int(input())\n",
    "    a=[]\n",
    "    for i in range(8):\n",
    "        a.append(0) \n",
    "    for i in range(n):\n",
    "        p,q=map(int,input().split(\" \"))\n",
    "        if(p<=8):\n",
    "            if(a[p-1]<q):\n",
    "                a[p-1]=q\n",
    "    print(sum(a))\n"
   ]
  },
  {
   "cell_type": "code",
   "execution_count": null,
   "metadata": {},
   "outputs": [],
   "source": [
    "2\n",
    "5\n",
    "2 45\n",
    "9 100\n",
    "8 0\n",
    "2 15\n",
    "8 90\n",
    "1\n",
    "11 1"
   ]
  },
  {
   "cell_type": "code",
   "execution_count": null,
   "metadata": {},
   "outputs": [],
   "source": [
    "a=list(map(int,input().split()))\n",
    "count=0\n",
    "for i in range(len(a)-1):\n",
    "    for j in range(i+1,len(a)):\n",
    "        if(a[i]*a[j]==a[i]+a[j]):\n",
    "            count=count+1\n",
    "\n",
    "print(count)"
   ]
  },
  {
   "cell_type": "code",
   "execution_count": null,
   "metadata": {},
   "outputs": [],
   "source": [
    "a"
   ]
  },
  {
   "cell_type": "code",
   "execution_count": null,
   "metadata": {},
   "outputs": [],
   "source": [
    "t=int(input())\n",
    "while(t):\n",
    "    t=t-1\n",
    "    ar={}\n",
    "    st=input()\n",
    "    st1=\"\"\n",
    "    \n",
    "    for i in st:\n",
    "        ar[i]=-1\n",
    "    \n",
    "    for i in st:\n",
    "        if(ar[i]==-1):\n",
    "            ar[i]=1\n",
    "            st1=st1+i\n",
    "        else:\n",
    "            continue\n",
    "            \n",
    "    print(st1)"
   ]
  },
  {
   "cell_type": "code",
   "execution_count": null,
   "metadata": {},
   "outputs": [],
   "source": [
    "st1"
   ]
  },
  {
   "cell_type": "code",
   "execution_count": null,
   "metadata": {},
   "outputs": [],
   "source": [
    "l1=[1,1,1,2,2,3]\n"
   ]
  },
  {
   "cell_type": "code",
   "execution_count": null,
   "metadata": {},
   "outputs": [],
   "source": [
    "l1=set(l1)"
   ]
  },
  {
   "cell_type": "code",
   "execution_count": null,
   "metadata": {},
   "outputs": [],
   "source": [
    "t=int(input())\n",
    "while(t):\n",
    "    t=t-1\n",
    "    a,b=input().split()\n",
    "    al=[]\n",
    "    for i in range(26):\n",
    "        al.append(0)\n",
    "    for i in a:\n",
    "        al[ord(i)-97]+=1\n",
    "    for i in b:\n",
    "        al[ord(i)-97]-=1\n",
    "    flag=0\n",
    "    for i in al:\n",
    "        if(i!=0):\n",
    "            print(\"NO\")\n",
    "            flag=1\n",
    "            break\n",
    "    if(flag==0):\n",
    "        print(\"YES\")\n",
    "    "
   ]
  },
  {
   "cell_type": "code",
   "execution_count": null,
   "metadata": {},
   "outputs": [],
   "source": [
    "al"
   ]
  },
  {
   "cell_type": "code",
   "execution_count": null,
   "metadata": {},
   "outputs": [],
   "source": [
    "a.sort()"
   ]
  },
  {
   "cell_type": "code",
   "execution_count": null,
   "metadata": {},
   "outputs": [],
   "source": [
    "a"
   ]
  },
  {
   "cell_type": "code",
   "execution_count": null,
   "metadata": {},
   "outputs": [],
   "source": [
    "P=\"a\"\n",
    "print(ord(P)-97)"
   ]
  },
  {
   "cell_type": "code",
   "execution_count": null,
   "metadata": {},
   "outputs": [],
   "source": [
    "t=int(input())\n",
    "while(t):\n",
    "    count=0\n",
    "    t=t-1\n",
    "    a=input()\n",
    "    ar=[]\n",
    "    for char in a:\n",
    "        ar.append(char)\n",
    "    p=0\n",
    "    q=len(a)-1\n",
    "    while(p<q):\n",
    "        if(ar[p]==ar[q]):\n",
    "            p=p+1\n",
    "            q=q-1\n",
    "        else:\n",
    "            count=count+1\n",
    "            ar.insert(q+1,ar[p])\n",
    "            q=q+1\n",
    "    print(count)"
   ]
  },
  {
   "cell_type": "code",
   "execution_count": null,
   "metadata": {},
   "outputs": [],
   "source": [
    "ar"
   ]
  },
  {
   "cell_type": "code",
   "execution_count": null,
   "metadata": {},
   "outputs": [],
   "source": [
    "p.insert(2,'w')"
   ]
  },
  {
   "cell_type": "code",
   "execution_count": null,
   "metadata": {},
   "outputs": [],
   "source": [
    "p"
   ]
  },
  {
   "cell_type": "code",
   "execution_count": null,
   "metadata": {},
   "outputs": [],
   "source": [
    "t=int(input())\n",
    "while(t):\n",
    "    t-=1\n",
    "    l=int(input())\n",
    "    a=list(map(int,input().split()))\n",
    "    sum1=l*(l+1)\n",
    "    sum1=sum1/2\n",
    "    sum2=0\n",
    "    for i in a:\n",
    "        sum2=sum2+i\n",
    "    print(int(sum1-sum2))\n",
    "        "
   ]
  },
  {
   "cell_type": "code",
   "execution_count": null,
   "metadata": {},
   "outputs": [],
   "source": [
    "t=int(input())\n",
    "while(t):\n",
    "    t=t-1\n",
    "    s=int(input())\n",
    "    count=0\n",
    "    a=list(map(int,input().split()))\n",
    "    a.sort()\n",
    "    t=s-1\n",
    "    while(t>=2):\n",
    "        i=0\n",
    "        j=t-1\n",
    "        while(i<j):\n",
    "            if(a[i]+a[j]==a[t]):\n",
    "                count+=1\n",
    "                i=+1\n",
    "                j-=1\n",
    "            elif(a[i]+a[j]<a[t]):\n",
    "                i+=1\n",
    "            elif(a[i]+a[j]>a[t]):\n",
    "                j-=1 \n",
    "        t-=1\n",
    "    if(count!=0):\n",
    "        print(count)\n",
    "    else:\n",
    "        print(-1)\n",
    "        "
   ]
  },
  {
   "cell_type": "code",
   "execution_count": 6,
   "metadata": {},
   "outputs": [
    {
     "name": "stdout",
     "output_type": "stream",
     "text": [
      "2\n",
      "4\n",
      "1 2 3 4\n",
      "2\n",
      "4\n",
      "1 2 3 4\n",
      "2\n"
     ]
    }
   ],
   "source": [
    "te=int(input())\n",
    "while(te):\n",
    "    te=te-1\n",
    "    s=int(input())\n",
    "    count=0\n",
    "    a=list(map(int,input().split()))\n",
    "    a.sort()\n",
    "    t=s-1\n",
    "    while(t>=2):\n",
    "        i=0\n",
    "        j=t-1\n",
    "        while(i<j):\n",
    "            if(a[i]+a[j]==a[t]):\n",
    "                count+=1\n",
    "                i=+1\n",
    "                j-=1\n",
    "            elif(a[i]+a[j]<a[t]):\n",
    "                i+=1\n",
    "            elif(a[i]+a[j]>a[t]):\n",
    "                j-=1 \n",
    "        t-=1\n",
    "    if(count!=0):\n",
    "        print(count)\n",
    "    else:\n",
    "        print(-1)\n",
    "        "
   ]
  },
  {
   "cell_type": "code",
   "execution_count": null,
   "metadata": {},
   "outputs": [],
   "source": []
  }
 ],
 "metadata": {
  "kernelspec": {
   "display_name": "Python 3",
   "language": "python",
   "name": "python3"
  },
  "language_info": {
   "codemirror_mode": {
    "name": "ipython",
    "version": 3
   },
   "file_extension": ".py",
   "mimetype": "text/x-python",
   "name": "python",
   "nbconvert_exporter": "python",
   "pygments_lexer": "ipython3",
   "version": "3.6.8"
  }
 },
 "nbformat": 4,
 "nbformat_minor": 2
}
